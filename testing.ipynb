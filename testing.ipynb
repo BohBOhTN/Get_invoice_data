{
 "cells": [
  {
   "cell_type": "code",
   "execution_count": 2,
   "id": "805c77b8",
   "metadata": {},
   "outputs": [
    {
     "name": "stdout",
     "output_type": "stream",
     "text": [
      "        Buyer Name Invoice Number Invoice Date Subtotal Total Tax  \\\n",
      "0  Cendrillon Ayot       FR - 001   29/01/2019   145.00     29.00   \n",
      "\n",
      "  Invoice Amount  \n",
      "0       174.00 €  \n"
     ]
    }
   ],
   "source": [
    "import requests\n",
    "import json\n",
    "import pandas as pd\n",
    "\n",
    "url = 'https://app.nanonets.com/api/v2/OCR/Model/4da819e1-4fa1-43a9-81a9-163125265bca/LabelFile/?async=false'\n",
    "\n",
    "data = {'file': open('./images/facture2.png', 'rb')}\n",
    "\n",
    "response = requests.post(url, auth=requests.auth.HTTPBasicAuth('51d0a0da-ba9d-11ed-a27e-22a1d9fde453', ''), files=data)\n",
    "\n",
    "data = response.text\n",
    "parse_json = json.loads(data)\n",
    "list_predictions = parse_json['result'][0]['prediction']\n",
    "#print(list_predictions)\n",
    "buyer_name = []\n",
    "invoice_number = []\n",
    "invoice_date = []\n",
    "subtotal= []\n",
    "total_tax  = []\n",
    "invoice_amount= []\n",
    "\n",
    "for i in list_predictions:\n",
    "    if (i['label']=='buyer_name'):\n",
    "        buyer_name.append(i['ocr_text'])\n",
    "    elif (i['label']=='invoice_number'):\n",
    "        invoice_number.append(i['ocr_text'])\n",
    "    elif(i['label']=='invoice_date'):\n",
    "        invoice_date.append(i['ocr_text'])\n",
    "    elif(i['label']=='subtotal'):\n",
    "        subtotal.append(i['ocr_text'])\n",
    "    elif(i['label']=='total_tax'):\n",
    "        total_tax.append(i['ocr_text'])\n",
    "    elif(i['label']=='invoice_amount'):\n",
    "        invoice_amount.append(i['ocr_text'])\n",
    "\n",
    "dataframe = pd.DataFrame(list(zip(buyer_name,invoice_number,invoice_date,subtotal,total_tax,invoice_amount)),columns=[\"Buyer Name\",\"Invoice Number\",\"Invoice Date\",\"Subtotal\",\"Total Tax\",\"Invoice Amount\"])\n",
    "\n",
    "print(dataframe)"
   ]
  },
  {
   "cell_type": "code",
   "execution_count": null,
   "id": "8db2ca65",
   "metadata": {},
   "outputs": [],
   "source": []
  }
 ],
 "metadata": {
  "kernelspec": {
   "display_name": "Python 3",
   "language": "python",
   "name": "python3"
  },
  "language_info": {
   "codemirror_mode": {
    "name": "ipython",
    "version": 3
   },
   "file_extension": ".py",
   "mimetype": "text/x-python",
   "name": "python",
   "nbconvert_exporter": "python",
   "pygments_lexer": "ipython3",
   "version": "3.8.8"
  }
 },
 "nbformat": 4,
 "nbformat_minor": 5
}
