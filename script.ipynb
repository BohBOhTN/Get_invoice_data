{
 "cells": [
  {
   "cell_type": "code",
   "execution_count": 15,
   "id": "b9c80145",
   "metadata": {},
   "outputs": [],
   "source": [
    "import requests\n",
    "import json\n",
    "import pandas as pd"
   ]
  },
  {
   "cell_type": "code",
   "execution_count": 3,
   "id": "1f4dec40",
   "metadata": {},
   "outputs": [],
   "source": [
    "import requests\n",
    "import json\n",
    "\n",
    "url = 'https://app.nanonets.com/api/v2/OCR/Model/4da819e1-4fa1-43a9-81a9-163125265bca/LabelFile/?async=false'\n",
    "\n",
    "data = {'file': open('./images/facture1.png', 'rb')}\n",
    "\n",
    "response = requests.post(url, auth=requests.auth.HTTPBasicAuth('51d0a0da-ba9d-11ed-a27e-22a1d9fde453', ''), files=data)\n"
   ]
  },
  {
   "cell_type": "code",
   "execution_count": 8,
   "id": "ef696061",
   "metadata": {},
   "outputs": [],
   "source": [
    "data = response.text\n",
    "parse_json = json.loads(data)\n",
    "list_predictions = parse_json['result'][0]['prediction']\n",
    "#print(list_predictions)"
   ]
  },
  {
   "cell_type": "code",
   "execution_count": 9,
   "id": "3ec56b34",
   "metadata": {},
   "outputs": [],
   "source": [
    "buyer_name = []\n",
    "invoice_number = []\n",
    "invoice_date = []\n",
    "subtotal= []\n",
    "total_tax  = []\n",
    "invoice_amount= []"
   ]
  },
  {
   "cell_type": "code",
   "execution_count": 10,
   "id": "6656e58e",
   "metadata": {},
   "outputs": [],
   "source": [
    "for i in list_predictions:\n",
    "    if (i['label']=='buyer_name'):\n",
    "        buyer_name.append(i['ocr_text'])\n",
    "    elif (i['label']=='invoice_number'):\n",
    "        invoice_number.append(i['ocr_text'])\n",
    "    elif(i['label']=='invoice_date'):\n",
    "        invoice_date.append(i['ocr_text'])\n",
    "    elif(i['label']=='subtotal'):\n",
    "        subtotal.append(i['ocr_text'])\n",
    "    elif(i['label']=='total_tax'):\n",
    "        total_tax.append(i['ocr_text'])\n",
    "    elif(i['label']=='invoice_amount'):\n",
    "        invoice_amount.append(i['ocr_text'])"
   ]
  },
  {
   "cell_type": "code",
   "execution_count": 19,
   "id": "3fa98374",
   "metadata": {},
   "outputs": [],
   "source": [
    "dataframe = pd.DataFrame(list(zip(buyer_name,invoice_number,invoice_date,subtotal,total_tax,invoice_amount)),columns=[\"Buyer Name\",\"Invoice Number\",\"Invoice Date\",\"Subtotal\",\"Total Tax\",\"Invoice Amount\"])"
   ]
  },
  {
   "cell_type": "code",
   "execution_count": 20,
   "id": "c2f24fa3",
   "metadata": {},
   "outputs": [
    {
     "data": {
      "text/html": [
       "<div>\n",
       "<style scoped>\n",
       "    .dataframe tbody tr th:only-of-type {\n",
       "        vertical-align: middle;\n",
       "    }\n",
       "\n",
       "    .dataframe tbody tr th {\n",
       "        vertical-align: top;\n",
       "    }\n",
       "\n",
       "    .dataframe thead th {\n",
       "        text-align: right;\n",
       "    }\n",
       "</style>\n",
       "<table border=\"1\" class=\"dataframe\">\n",
       "  <thead>\n",
       "    <tr style=\"text-align: right;\">\n",
       "      <th></th>\n",
       "      <th>Buyer Name</th>\n",
       "      <th>Invoice Number</th>\n",
       "      <th>Invoice Date</th>\n",
       "      <th>Subtotal</th>\n",
       "      <th>Total Tax</th>\n",
       "      <th>Invoice Amount</th>\n",
       "    </tr>\n",
       "  </thead>\n",
       "  <tbody>\n",
       "    <tr>\n",
       "      <th>0</th>\n",
       "      <td>Michel Acheteur</td>\n",
       "      <td>143</td>\n",
       "      <td>2.6.2021</td>\n",
       "      <td>1 350,00</td>\n",
       "      <td>270,00 €</td>\n",
       "      <td>1 620,00 €</td>\n",
       "    </tr>\n",
       "  </tbody>\n",
       "</table>\n",
       "</div>"
      ],
      "text/plain": [
       "        Buyer Name Invoice Number Invoice Date  Subtotal Total Tax  \\\n",
       "0  Michel Acheteur            143     2.6.2021  1 350,00  270,00 €   \n",
       "\n",
       "  Invoice Amount  \n",
       "0     1 620,00 €  "
      ]
     },
     "execution_count": 20,
     "metadata": {},
     "output_type": "execute_result"
    }
   ],
   "source": [
    "dataframe"
   ]
  },
  {
   "cell_type": "code",
   "execution_count": null,
   "id": "50e0372f",
   "metadata": {},
   "outputs": [],
   "source": []
  }
 ],
 "metadata": {
  "kernelspec": {
   "display_name": "Python 3",
   "language": "python",
   "name": "python3"
  },
  "language_info": {
   "codemirror_mode": {
    "name": "ipython",
    "version": 3
   },
   "file_extension": ".py",
   "mimetype": "text/x-python",
   "name": "python",
   "nbconvert_exporter": "python",
   "pygments_lexer": "ipython3",
   "version": "3.8.8"
  }
 },
 "nbformat": 4,
 "nbformat_minor": 5
}
